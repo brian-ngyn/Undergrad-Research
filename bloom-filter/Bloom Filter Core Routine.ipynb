{
 "cells": [
  {
   "cell_type": "markdown",
   "id": "c46c8de3-e030-402d-897d-e45226ab7b00",
   "metadata": {},
   "source": [
    "# Bloom Filter Name/DOB Scrambling\n",
    "Demonstrates the core routine used to Bloom filter encode a plain text string and discusses the python window application functionality."
   ]
  },
  {
   "cell_type": "code",
   "execution_count": 4,
   "id": "71b4631b-c87d-4c2f-855a-2a820861a41c",
   "metadata": {
    "tags": []
   },
   "outputs": [],
   "source": [
    "import pandas as pd\n",
    "import numpy as np\n",
    "import copy\n",
    "import re, math\n",
    "import hashlib\n",
    "from scipy.special import factorial"
   ]
  },
  {
   "cell_type": "markdown",
   "id": "0d3f4c50-bffc-487a-b7ac-ac8391a60f72",
   "metadata": {},
   "source": [
    "## Windows Application Functionality\n",
    "The purpose of the windows application is to use the bloom filter routine below to scramble names and birth dates located in a CSV file provided by an agency data partner like AHS or CPS.  \n",
    "1. The agency partner generates a CSV file with columns containing first name, last name, birth year, birth month and birth day.  This is the input CSV file.\n",
    "1. When the windows application is launched, a file explorer window appears that allows the user to select the input CSV file and click ok.\n",
    "1. A second window appears that queries the user for an alpha numeric string that serves as an encryption key.  This string is the `salt` bloom filter function argument.  Click ok after entering the key.\n",
    "1. A third window appears with column names extracted from the first line of the input CSV file.  Each column name should have a check box that allows the user to specify whether or not the column will be bloom filter encrypted.  Click ok after making the checkbox selections.\n",
    "1. A fourth window appears that allows the user to specify the name of an output CSV file.  It can be located in the same directory as the input file.  Click ok after entering the name.\n",
    "1. The application now reads through all of the columns marked for encryption and scrambles them using the bloom filter routine.  The output of the bloom filter routine is placed in the corresponding row and column in the output CSV file.  Columns not marked for encryption are copied across without change."
   ]
  },
  {
   "cell_type": "markdown",
   "id": "8626b1de-adee-4e4a-9dda-fa48a454c823",
   "metadata": {},
   "source": [
    "## Bloom Filter Routine"
   ]
  },
  {
   "cell_type": "code",
   "execution_count": 5,
   "id": "fce6af92-57df-471a-8738-b3f404bff167",
   "metadata": {},
   "outputs": [],
   "source": [
    "def bloom_filter(plnTxt, saltStr, qGrmLen=2, filterLen=32):\n",
    "    \n",
    "    plnTxt = f'_{plnTxt}_'\n",
    "    bloomFilter = 0\n",
    "    \n",
    "    for i in range(len(plnTxt)-qGrmLen+1):\n",
    "        byteStr = (saltStr + plnTxt[i:i+qGrmLen]).encode('utf-8','replace')\n",
    "    \n",
    "        idxMd5 = int( hashlib.md5(byteStr).hexdigest(), 16) % filterLen\n",
    "        idxSha = int( hashlib.sha256(byteStr).hexdigest(), 16) % filterLen\n",
    "        \n",
    "        bloomFilter |= 1 << idxMd5\n",
    "        bloomFilter |= 1 << idxSha\n",
    "        \n",
    "    return bloomFilter\n",
    "        "
   ]
  },
  {
   "cell_type": "markdown",
   "id": "6e7e3f0d-1246-483e-a128-47c140247715",
   "metadata": {},
   "source": [
    "The `salt` variable is equivalent to an encryption key.  This is an alpha numeric string of arbtrary length that should be specified by the user using a pop-up window."
   ]
  },
  {
   "cell_type": "code",
   "execution_count": 6,
   "id": "f4133386-a6aa-449c-b3a6-de17378c921b",
   "metadata": {},
   "outputs": [],
   "source": [
    "salt = 'dkf13478xxhf10'"
   ]
  },
  {
   "cell_type": "code",
   "execution_count": 7,
   "id": "56237da1-b751-4423-8f98-9c5aef83ba40",
   "metadata": {},
   "outputs": [],
   "source": [
    "plainText = 'messier'"
   ]
  },
  {
   "cell_type": "code",
   "execution_count": 8,
   "id": "ecaf013c-6044-4b5a-96cc-d0520a1d1824",
   "metadata": {},
   "outputs": [],
   "source": [
    "result = bloom_filter(plainText,salt)"
   ]
  },
  {
   "cell_type": "markdown",
   "id": "c1848d1b-6cc4-4386-90ee-65c43893f8ca",
   "metadata": {},
   "source": [
    "The bloom filter result should be written to the output CSV file as a string in hex format with no prefix (ie. no `0x`)."
   ]
  },
  {
   "cell_type": "code",
   "execution_count": 9,
   "id": "8550b391-5592-495f-9067-e36090784c4d",
   "metadata": {},
   "outputs": [
    {
     "name": "stdout",
     "output_type": "stream",
     "text": [
      "4925106e\n"
     ]
    }
   ],
   "source": [
    "print(result)"
   ]
  }
 ],
 "metadata": {
  "kernelspec": {
   "display_name": "Python 3.8.13 ('homeless-proj')",
   "language": "python",
   "name": "python3"
  },
  "language_info": {
   "codemirror_mode": {
    "name": "ipython",
    "version": 3
   },
   "file_extension": ".py",
   "mimetype": "text/x-python",
   "name": "python",
   "nbconvert_exporter": "python",
   "pygments_lexer": "ipython3",
   "version": "3.8.13"
  },
  "vscode": {
   "interpreter": {
    "hash": "81686e47d536e3df6c61aad70b193c760b1d667c8c8e04f426182dba08a834b2"
   }
  }
 },
 "nbformat": 4,
 "nbformat_minor": 5
}
