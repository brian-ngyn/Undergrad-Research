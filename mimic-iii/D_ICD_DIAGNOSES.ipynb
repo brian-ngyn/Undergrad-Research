{
 "cells": [
  {
   "cell_type": "code",
   "execution_count": 1,
   "metadata": {},
   "outputs": [],
   "source": [
    "import numpy as np\n",
    "import pandas as pd\n",
    "import datetime\n",
    "import copy\n",
    "import time\n",
    "import os\n",
    "import re\n",
    "import matplotlib.pyplot as plt\n",
    "import matplotlib.ticker as ticker\n",
    "import operator\n",
    "\n",
    "from tqdm.auto import tqdm, trange\n",
    "from tqdm.notebook import tqdm\n",
    "from datetime import timedelta\n",
    "\n",
    "tqdm.pandas()"
   ]
  },
  {
   "cell_type": "code",
   "execution_count": 2,
   "metadata": {},
   "outputs": [
    {
     "data": {
      "text/html": [
       "<div>\n",
       "<style scoped>\n",
       "    .dataframe tbody tr th:only-of-type {\n",
       "        vertical-align: middle;\n",
       "    }\n",
       "\n",
       "    .dataframe tbody tr th {\n",
       "        vertical-align: top;\n",
       "    }\n",
       "\n",
       "    .dataframe thead th {\n",
       "        text-align: right;\n",
       "    }\n",
       "</style>\n",
       "<table border=\"1\" class=\"dataframe\">\n",
       "  <thead>\n",
       "    <tr style=\"text-align: right;\">\n",
       "      <th></th>\n",
       "      <th>row_id</th>\n",
       "      <th>icd9_code</th>\n",
       "      <th>short_title</th>\n",
       "      <th>long_title</th>\n",
       "    </tr>\n",
       "  </thead>\n",
       "  <tbody>\n",
       "    <tr>\n",
       "      <th>0</th>\n",
       "      <td>174</td>\n",
       "      <td>01166</td>\n",
       "      <td>TB pneumonia-oth test</td>\n",
       "      <td>Tuberculous pneumonia [any form], tubercle bac...</td>\n",
       "    </tr>\n",
       "    <tr>\n",
       "      <th>1</th>\n",
       "      <td>175</td>\n",
       "      <td>01170</td>\n",
       "      <td>TB pneumothorax-unspec</td>\n",
       "      <td>Tuberculous pneumothorax, unspecified</td>\n",
       "    </tr>\n",
       "    <tr>\n",
       "      <th>2</th>\n",
       "      <td>176</td>\n",
       "      <td>01171</td>\n",
       "      <td>TB pneumothorax-no exam</td>\n",
       "      <td>Tuberculous pneumothorax, bacteriological or h...</td>\n",
       "    </tr>\n",
       "    <tr>\n",
       "      <th>3</th>\n",
       "      <td>177</td>\n",
       "      <td>01172</td>\n",
       "      <td>TB pneumothorx-exam unkn</td>\n",
       "      <td>Tuberculous pneumothorax, bacteriological or h...</td>\n",
       "    </tr>\n",
       "    <tr>\n",
       "      <th>4</th>\n",
       "      <td>178</td>\n",
       "      <td>01173</td>\n",
       "      <td>TB pneumothorax-micro dx</td>\n",
       "      <td>Tuberculous pneumothorax, tubercle bacilli fou...</td>\n",
       "    </tr>\n",
       "    <tr>\n",
       "      <th>...</th>\n",
       "      <td>...</td>\n",
       "      <td>...</td>\n",
       "      <td>...</td>\n",
       "      <td>...</td>\n",
       "    </tr>\n",
       "    <tr>\n",
       "      <th>14562</th>\n",
       "      <td>14432</td>\n",
       "      <td>V7399</td>\n",
       "      <td>Scrn unspcf viral dis</td>\n",
       "      <td>Special screening examination for unspecified ...</td>\n",
       "    </tr>\n",
       "    <tr>\n",
       "      <th>14563</th>\n",
       "      <td>14433</td>\n",
       "      <td>V740</td>\n",
       "      <td>Screening for cholera</td>\n",
       "      <td>Screening examination for cholera</td>\n",
       "    </tr>\n",
       "    <tr>\n",
       "      <th>14564</th>\n",
       "      <td>14434</td>\n",
       "      <td>V741</td>\n",
       "      <td>Screening-pulmonary TB</td>\n",
       "      <td>Screening examination for pulmonary tuberculosis</td>\n",
       "    </tr>\n",
       "    <tr>\n",
       "      <th>14565</th>\n",
       "      <td>14435</td>\n",
       "      <td>V742</td>\n",
       "      <td>Screening for leprosy</td>\n",
       "      <td>Screening examination for leprosy (Hansen's di...</td>\n",
       "    </tr>\n",
       "    <tr>\n",
       "      <th>14566</th>\n",
       "      <td>14436</td>\n",
       "      <td>V743</td>\n",
       "      <td>Screening for diphtheria</td>\n",
       "      <td>Screening examination for diphtheria</td>\n",
       "    </tr>\n",
       "  </tbody>\n",
       "</table>\n",
       "<p>14567 rows × 4 columns</p>\n",
       "</div>"
      ],
      "text/plain": [
       "       row_id icd9_code               short_title  \\\n",
       "0         174     01166     TB pneumonia-oth test   \n",
       "1         175     01170    TB pneumothorax-unspec   \n",
       "2         176     01171   TB pneumothorax-no exam   \n",
       "3         177     01172  TB pneumothorx-exam unkn   \n",
       "4         178     01173  TB pneumothorax-micro dx   \n",
       "...       ...       ...                       ...   \n",
       "14562   14432     V7399     Scrn unspcf viral dis   \n",
       "14563   14433      V740     Screening for cholera   \n",
       "14564   14434      V741    Screening-pulmonary TB   \n",
       "14565   14435      V742     Screening for leprosy   \n",
       "14566   14436      V743  Screening for diphtheria   \n",
       "\n",
       "                                              long_title  \n",
       "0      Tuberculous pneumonia [any form], tubercle bac...  \n",
       "1                  Tuberculous pneumothorax, unspecified  \n",
       "2      Tuberculous pneumothorax, bacteriological or h...  \n",
       "3      Tuberculous pneumothorax, bacteriological or h...  \n",
       "4      Tuberculous pneumothorax, tubercle bacilli fou...  \n",
       "...                                                  ...  \n",
       "14562  Special screening examination for unspecified ...  \n",
       "14563                  Screening examination for cholera  \n",
       "14564   Screening examination for pulmonary tuberculosis  \n",
       "14565  Screening examination for leprosy (Hansen's di...  \n",
       "14566               Screening examination for diphtheria  \n",
       "\n",
       "[14567 rows x 4 columns]"
      ]
     },
     "execution_count": 2,
     "metadata": {},
     "output_type": "execute_result"
    }
   ],
   "source": [
    "d_icd_diagnoses_df = pd.read_parquet(\"data/D_ICD_DIAGNOSES.parquet\")\n",
    "d_icd_diagnoses_df"
   ]
  },
  {
   "cell_type": "markdown",
   "metadata": {},
   "source": [
    "`D_ICD_DIAGNOSES` defines International Classification of Diseases Version 9 (ICD-9) codes for diagnoses. These codes are assigned at the end of the patient’s stay and are used by the hospital to bill for care provided."
   ]
  },
  {
   "cell_type": "markdown",
   "metadata": {},
   "source": [
    "`icd9_code` is the International Coding Definitions Version 9 (ICD-9) code. Each code corresponds to a single diagnostic concept."
   ]
  },
  {
   "cell_type": "markdown",
   "metadata": {},
   "source": [
    "The `short_title` and `long_title` fields provide a brief definition for the given diagnosis code in ICD9_CODE."
   ]
  }
 ],
 "metadata": {
  "kernelspec": {
   "display_name": "Python 3.8.13 ('homeless-proj')",
   "language": "python",
   "name": "python3"
  },
  "language_info": {
   "codemirror_mode": {
    "name": "ipython",
    "version": 3
   },
   "file_extension": ".py",
   "mimetype": "text/x-python",
   "name": "python",
   "nbconvert_exporter": "python",
   "pygments_lexer": "ipython3",
   "version": "3.8.13"
  },
  "orig_nbformat": 4,
  "vscode": {
   "interpreter": {
    "hash": "81686e47d536e3df6c61aad70b193c760b1d667c8c8e04f426182dba08a834b2"
   }
  }
 },
 "nbformat": 4,
 "nbformat_minor": 2
}
