{
 "cells": [
  {
   "cell_type": "code",
   "execution_count": 43,
   "metadata": {},
   "outputs": [],
   "source": [
    "import numpy as np\n",
    "import pandas as pd\n",
    "import datetime\n",
    "import copy\n",
    "import time\n",
    "import os\n",
    "import re\n",
    "import matplotlib.pyplot as plt\n",
    "import matplotlib.ticker as ticker\n",
    "import operator\n",
    "\n",
    "from tqdm.auto import tqdm, trange\n",
    "from tqdm.notebook import tqdm\n",
    "from datetime import timedelta\n",
    "\n",
    "tqdm.pandas()"
   ]
  },
  {
   "cell_type": "markdown",
   "metadata": {},
   "source": [
    "`ADMISSIONS.parquet` describes the admit and discharge time, death time if died in the admission. Admission and discharge location in the hospital. Insurance, language, ethnicity and martial status. The diagnosis is also recorded, however keep in mind this diagnosis is assigned by the clinician/nurse at the time of admission (not a systematic ontology such as ICD9 code)."
   ]
  },
  {
   "cell_type": "code",
   "execution_count": 44,
   "metadata": {},
   "outputs": [
    {
     "data": {
      "text/html": [
       "<div>\n",
       "<style scoped>\n",
       "    .dataframe tbody tr th:only-of-type {\n",
       "        vertical-align: middle;\n",
       "    }\n",
       "\n",
       "    .dataframe tbody tr th {\n",
       "        vertical-align: top;\n",
       "    }\n",
       "\n",
       "    .dataframe thead th {\n",
       "        text-align: right;\n",
       "    }\n",
       "</style>\n",
       "<table border=\"1\" class=\"dataframe\">\n",
       "  <thead>\n",
       "    <tr style=\"text-align: right;\">\n",
       "      <th></th>\n",
       "      <th>row_id</th>\n",
       "      <th>subject_id</th>\n",
       "      <th>hadm_id</th>\n",
       "      <th>admittime</th>\n",
       "      <th>dischtime</th>\n",
       "      <th>deathtime</th>\n",
       "      <th>admission_type</th>\n",
       "      <th>admission_location</th>\n",
       "      <th>discharge_location</th>\n",
       "      <th>insurance</th>\n",
       "      <th>language</th>\n",
       "      <th>religion</th>\n",
       "      <th>marital_status</th>\n",
       "      <th>ethnicity</th>\n",
       "      <th>edregtime</th>\n",
       "      <th>edouttime</th>\n",
       "      <th>diagnosis</th>\n",
       "      <th>hospital_expire_flag</th>\n",
       "      <th>has_chartevents_data</th>\n",
       "    </tr>\n",
       "  </thead>\n",
       "  <tbody>\n",
       "    <tr>\n",
       "      <th>0</th>\n",
       "      <td>21</td>\n",
       "      <td>22</td>\n",
       "      <td>165315</td>\n",
       "      <td>2196-04-09 12:26:00</td>\n",
       "      <td>2196-04-10 15:54:00</td>\n",
       "      <td>NaT</td>\n",
       "      <td>EMERGENCY</td>\n",
       "      <td>EMERGENCY ROOM ADMIT</td>\n",
       "      <td>DISC-TRAN CANCER/CHLDRN H</td>\n",
       "      <td>Private</td>\n",
       "      <td>None</td>\n",
       "      <td>UNOBTAINABLE</td>\n",
       "      <td>MARRIED</td>\n",
       "      <td>WHITE</td>\n",
       "      <td>2196-04-09 10:06:00</td>\n",
       "      <td>2196-04-09 13:24:00</td>\n",
       "      <td>BENZODIAZEPINE OVERDOSE</td>\n",
       "      <td>0</td>\n",
       "      <td>1</td>\n",
       "    </tr>\n",
       "    <tr>\n",
       "      <th>1</th>\n",
       "      <td>22</td>\n",
       "      <td>23</td>\n",
       "      <td>152223</td>\n",
       "      <td>2153-09-03 07:15:00</td>\n",
       "      <td>2153-09-08 19:10:00</td>\n",
       "      <td>NaT</td>\n",
       "      <td>ELECTIVE</td>\n",
       "      <td>PHYS REFERRAL/NORMAL DELI</td>\n",
       "      <td>HOME HEALTH CARE</td>\n",
       "      <td>Medicare</td>\n",
       "      <td>None</td>\n",
       "      <td>CATHOLIC</td>\n",
       "      <td>MARRIED</td>\n",
       "      <td>WHITE</td>\n",
       "      <td>NaT</td>\n",
       "      <td>NaT</td>\n",
       "      <td>CORONARY ARTERY DISEASE\\CORONARY ARTERY BYPASS...</td>\n",
       "      <td>0</td>\n",
       "      <td>1</td>\n",
       "    </tr>\n",
       "    <tr>\n",
       "      <th>2</th>\n",
       "      <td>23</td>\n",
       "      <td>23</td>\n",
       "      <td>124321</td>\n",
       "      <td>2157-10-18 19:34:00</td>\n",
       "      <td>2157-10-25 14:00:00</td>\n",
       "      <td>NaT</td>\n",
       "      <td>EMERGENCY</td>\n",
       "      <td>TRANSFER FROM HOSP/EXTRAM</td>\n",
       "      <td>HOME HEALTH CARE</td>\n",
       "      <td>Medicare</td>\n",
       "      <td>ENGL</td>\n",
       "      <td>CATHOLIC</td>\n",
       "      <td>MARRIED</td>\n",
       "      <td>WHITE</td>\n",
       "      <td>NaT</td>\n",
       "      <td>NaT</td>\n",
       "      <td>BRAIN MASS</td>\n",
       "      <td>0</td>\n",
       "      <td>1</td>\n",
       "    </tr>\n",
       "    <tr>\n",
       "      <th>3</th>\n",
       "      <td>24</td>\n",
       "      <td>24</td>\n",
       "      <td>161859</td>\n",
       "      <td>2139-06-06 16:14:00</td>\n",
       "      <td>2139-06-09 12:48:00</td>\n",
       "      <td>NaT</td>\n",
       "      <td>EMERGENCY</td>\n",
       "      <td>TRANSFER FROM HOSP/EXTRAM</td>\n",
       "      <td>HOME</td>\n",
       "      <td>Private</td>\n",
       "      <td>None</td>\n",
       "      <td>PROTESTANT QUAKER</td>\n",
       "      <td>SINGLE</td>\n",
       "      <td>WHITE</td>\n",
       "      <td>NaT</td>\n",
       "      <td>NaT</td>\n",
       "      <td>INTERIOR MYOCARDIAL INFARCTION</td>\n",
       "      <td>0</td>\n",
       "      <td>1</td>\n",
       "    </tr>\n",
       "    <tr>\n",
       "      <th>4</th>\n",
       "      <td>25</td>\n",
       "      <td>25</td>\n",
       "      <td>129635</td>\n",
       "      <td>2160-11-02 02:06:00</td>\n",
       "      <td>2160-11-05 14:55:00</td>\n",
       "      <td>NaT</td>\n",
       "      <td>EMERGENCY</td>\n",
       "      <td>EMERGENCY ROOM ADMIT</td>\n",
       "      <td>HOME</td>\n",
       "      <td>Private</td>\n",
       "      <td>None</td>\n",
       "      <td>UNOBTAINABLE</td>\n",
       "      <td>MARRIED</td>\n",
       "      <td>WHITE</td>\n",
       "      <td>2160-11-02 01:01:00</td>\n",
       "      <td>2160-11-02 04:27:00</td>\n",
       "      <td>ACUTE CORONARY SYNDROME</td>\n",
       "      <td>0</td>\n",
       "      <td>1</td>\n",
       "    </tr>\n",
       "    <tr>\n",
       "      <th>...</th>\n",
       "      <td>...</td>\n",
       "      <td>...</td>\n",
       "      <td>...</td>\n",
       "      <td>...</td>\n",
       "      <td>...</td>\n",
       "      <td>...</td>\n",
       "      <td>...</td>\n",
       "      <td>...</td>\n",
       "      <td>...</td>\n",
       "      <td>...</td>\n",
       "      <td>...</td>\n",
       "      <td>...</td>\n",
       "      <td>...</td>\n",
       "      <td>...</td>\n",
       "      <td>...</td>\n",
       "      <td>...</td>\n",
       "      <td>...</td>\n",
       "      <td>...</td>\n",
       "      <td>...</td>\n",
       "    </tr>\n",
       "    <tr>\n",
       "      <th>58971</th>\n",
       "      <td>58594</td>\n",
       "      <td>98800</td>\n",
       "      <td>191113</td>\n",
       "      <td>2131-03-30 21:13:00</td>\n",
       "      <td>2131-04-02 15:02:00</td>\n",
       "      <td>NaT</td>\n",
       "      <td>EMERGENCY</td>\n",
       "      <td>CLINIC REFERRAL/PREMATURE</td>\n",
       "      <td>HOME</td>\n",
       "      <td>Private</td>\n",
       "      <td>ENGL</td>\n",
       "      <td>NOT SPECIFIED</td>\n",
       "      <td>SINGLE</td>\n",
       "      <td>WHITE</td>\n",
       "      <td>2131-03-30 19:44:00</td>\n",
       "      <td>2131-03-30 22:41:00</td>\n",
       "      <td>TRAUMA</td>\n",
       "      <td>0</td>\n",
       "      <td>1</td>\n",
       "    </tr>\n",
       "    <tr>\n",
       "      <th>58972</th>\n",
       "      <td>58595</td>\n",
       "      <td>98802</td>\n",
       "      <td>101071</td>\n",
       "      <td>2151-03-05 20:00:00</td>\n",
       "      <td>2151-03-06 09:10:00</td>\n",
       "      <td>2151-03-06 09:10:00</td>\n",
       "      <td>EMERGENCY</td>\n",
       "      <td>CLINIC REFERRAL/PREMATURE</td>\n",
       "      <td>DEAD/EXPIRED</td>\n",
       "      <td>Medicare</td>\n",
       "      <td>ENGL</td>\n",
       "      <td>CATHOLIC</td>\n",
       "      <td>WIDOWED</td>\n",
       "      <td>WHITE</td>\n",
       "      <td>2151-03-05 17:23:00</td>\n",
       "      <td>2151-03-05 21:06:00</td>\n",
       "      <td>SAH</td>\n",
       "      <td>1</td>\n",
       "      <td>1</td>\n",
       "    </tr>\n",
       "    <tr>\n",
       "      <th>58973</th>\n",
       "      <td>58596</td>\n",
       "      <td>98805</td>\n",
       "      <td>122631</td>\n",
       "      <td>2200-09-12 07:15:00</td>\n",
       "      <td>2200-09-20 12:08:00</td>\n",
       "      <td>NaT</td>\n",
       "      <td>ELECTIVE</td>\n",
       "      <td>PHYS REFERRAL/NORMAL DELI</td>\n",
       "      <td>HOME HEALTH CARE</td>\n",
       "      <td>Private</td>\n",
       "      <td>ENGL</td>\n",
       "      <td>NOT SPECIFIED</td>\n",
       "      <td>MARRIED</td>\n",
       "      <td>WHITE</td>\n",
       "      <td>NaT</td>\n",
       "      <td>NaT</td>\n",
       "      <td>RENAL CANCER/SDA</td>\n",
       "      <td>0</td>\n",
       "      <td>1</td>\n",
       "    </tr>\n",
       "    <tr>\n",
       "      <th>58974</th>\n",
       "      <td>58597</td>\n",
       "      <td>98813</td>\n",
       "      <td>170407</td>\n",
       "      <td>2128-11-11 02:29:00</td>\n",
       "      <td>2128-12-22 13:11:00</td>\n",
       "      <td>NaT</td>\n",
       "      <td>EMERGENCY</td>\n",
       "      <td>EMERGENCY ROOM ADMIT</td>\n",
       "      <td>SNF</td>\n",
       "      <td>Private</td>\n",
       "      <td>ENGL</td>\n",
       "      <td>CATHOLIC</td>\n",
       "      <td>MARRIED</td>\n",
       "      <td>WHITE</td>\n",
       "      <td>2128-11-10 23:48:00</td>\n",
       "      <td>2128-11-11 03:16:00</td>\n",
       "      <td>S/P FALL</td>\n",
       "      <td>0</td>\n",
       "      <td>0</td>\n",
       "    </tr>\n",
       "    <tr>\n",
       "      <th>58975</th>\n",
       "      <td>58598</td>\n",
       "      <td>98813</td>\n",
       "      <td>190264</td>\n",
       "      <td>2131-10-25 03:09:00</td>\n",
       "      <td>2131-10-26 17:44:00</td>\n",
       "      <td>NaT</td>\n",
       "      <td>EMERGENCY</td>\n",
       "      <td>CLINIC REFERRAL/PREMATURE</td>\n",
       "      <td>HOME</td>\n",
       "      <td>Private</td>\n",
       "      <td>ENGL</td>\n",
       "      <td>CATHOLIC</td>\n",
       "      <td>MARRIED</td>\n",
       "      <td>WHITE</td>\n",
       "      <td>2131-10-25 00:08:00</td>\n",
       "      <td>2131-10-25 04:35:00</td>\n",
       "      <td>INTRACRANIAL HEMORRHAGE</td>\n",
       "      <td>0</td>\n",
       "      <td>1</td>\n",
       "    </tr>\n",
       "  </tbody>\n",
       "</table>\n",
       "<p>58976 rows × 19 columns</p>\n",
       "</div>"
      ],
      "text/plain": [
       "       row_id  subject_id  hadm_id           admittime           dischtime  \\\n",
       "0          21          22   165315 2196-04-09 12:26:00 2196-04-10 15:54:00   \n",
       "1          22          23   152223 2153-09-03 07:15:00 2153-09-08 19:10:00   \n",
       "2          23          23   124321 2157-10-18 19:34:00 2157-10-25 14:00:00   \n",
       "3          24          24   161859 2139-06-06 16:14:00 2139-06-09 12:48:00   \n",
       "4          25          25   129635 2160-11-02 02:06:00 2160-11-05 14:55:00   \n",
       "...       ...         ...      ...                 ...                 ...   \n",
       "58971   58594       98800   191113 2131-03-30 21:13:00 2131-04-02 15:02:00   \n",
       "58972   58595       98802   101071 2151-03-05 20:00:00 2151-03-06 09:10:00   \n",
       "58973   58596       98805   122631 2200-09-12 07:15:00 2200-09-20 12:08:00   \n",
       "58974   58597       98813   170407 2128-11-11 02:29:00 2128-12-22 13:11:00   \n",
       "58975   58598       98813   190264 2131-10-25 03:09:00 2131-10-26 17:44:00   \n",
       "\n",
       "                deathtime admission_type         admission_location  \\\n",
       "0                     NaT      EMERGENCY       EMERGENCY ROOM ADMIT   \n",
       "1                     NaT       ELECTIVE  PHYS REFERRAL/NORMAL DELI   \n",
       "2                     NaT      EMERGENCY  TRANSFER FROM HOSP/EXTRAM   \n",
       "3                     NaT      EMERGENCY  TRANSFER FROM HOSP/EXTRAM   \n",
       "4                     NaT      EMERGENCY       EMERGENCY ROOM ADMIT   \n",
       "...                   ...            ...                        ...   \n",
       "58971                 NaT      EMERGENCY  CLINIC REFERRAL/PREMATURE   \n",
       "58972 2151-03-06 09:10:00      EMERGENCY  CLINIC REFERRAL/PREMATURE   \n",
       "58973                 NaT       ELECTIVE  PHYS REFERRAL/NORMAL DELI   \n",
       "58974                 NaT      EMERGENCY       EMERGENCY ROOM ADMIT   \n",
       "58975                 NaT      EMERGENCY  CLINIC REFERRAL/PREMATURE   \n",
       "\n",
       "              discharge_location insurance language           religion  \\\n",
       "0      DISC-TRAN CANCER/CHLDRN H   Private     None       UNOBTAINABLE   \n",
       "1               HOME HEALTH CARE  Medicare     None           CATHOLIC   \n",
       "2               HOME HEALTH CARE  Medicare     ENGL           CATHOLIC   \n",
       "3                           HOME   Private     None  PROTESTANT QUAKER   \n",
       "4                           HOME   Private     None       UNOBTAINABLE   \n",
       "...                          ...       ...      ...                ...   \n",
       "58971                       HOME   Private     ENGL      NOT SPECIFIED   \n",
       "58972               DEAD/EXPIRED  Medicare     ENGL           CATHOLIC   \n",
       "58973           HOME HEALTH CARE   Private     ENGL      NOT SPECIFIED   \n",
       "58974                        SNF   Private     ENGL           CATHOLIC   \n",
       "58975                       HOME   Private     ENGL           CATHOLIC   \n",
       "\n",
       "      marital_status ethnicity           edregtime           edouttime  \\\n",
       "0            MARRIED     WHITE 2196-04-09 10:06:00 2196-04-09 13:24:00   \n",
       "1            MARRIED     WHITE                 NaT                 NaT   \n",
       "2            MARRIED     WHITE                 NaT                 NaT   \n",
       "3             SINGLE     WHITE                 NaT                 NaT   \n",
       "4            MARRIED     WHITE 2160-11-02 01:01:00 2160-11-02 04:27:00   \n",
       "...              ...       ...                 ...                 ...   \n",
       "58971         SINGLE     WHITE 2131-03-30 19:44:00 2131-03-30 22:41:00   \n",
       "58972        WIDOWED     WHITE 2151-03-05 17:23:00 2151-03-05 21:06:00   \n",
       "58973        MARRIED     WHITE                 NaT                 NaT   \n",
       "58974        MARRIED     WHITE 2128-11-10 23:48:00 2128-11-11 03:16:00   \n",
       "58975        MARRIED     WHITE 2131-10-25 00:08:00 2131-10-25 04:35:00   \n",
       "\n",
       "                                               diagnosis  \\\n",
       "0                                BENZODIAZEPINE OVERDOSE   \n",
       "1      CORONARY ARTERY DISEASE\\CORONARY ARTERY BYPASS...   \n",
       "2                                             BRAIN MASS   \n",
       "3                         INTERIOR MYOCARDIAL INFARCTION   \n",
       "4                                ACUTE CORONARY SYNDROME   \n",
       "...                                                  ...   \n",
       "58971                                             TRAUMA   \n",
       "58972                                                SAH   \n",
       "58973                                   RENAL CANCER/SDA   \n",
       "58974                                           S/P FALL   \n",
       "58975                            INTRACRANIAL HEMORRHAGE   \n",
       "\n",
       "       hospital_expire_flag  has_chartevents_data  \n",
       "0                         0                     1  \n",
       "1                         0                     1  \n",
       "2                         0                     1  \n",
       "3                         0                     1  \n",
       "4                         0                     1  \n",
       "...                     ...                   ...  \n",
       "58971                     0                     1  \n",
       "58972                     1                     1  \n",
       "58973                     0                     1  \n",
       "58974                     0                     0  \n",
       "58975                     0                     1  \n",
       "\n",
       "[58976 rows x 19 columns]"
      ]
     },
     "execution_count": 44,
     "metadata": {},
     "output_type": "execute_result"
    }
   ],
   "source": [
    "admissions_df = pd.read_parquet(\"data/ADMISSIONS.parquet\")\n",
    "admissions_df"
   ]
  },
  {
   "cell_type": "markdown",
   "metadata": {},
   "source": [
    "The `admissions` table defines all `hadm_id` present in the database between June 1 2001 and October 10 2012.\n",
    "\n",
    "Each row in the table contains a unique `hadm_id`, which represent a single patient's admission into the hospital. It is possible to have multiple `subject_id`, indicating that a single patient has had multiple admissions into the hospital. Information about `subject_id` can be viewed in the `PATIENTS` table."
   ]
  },
  {
   "cell_type": "code",
   "execution_count": 45,
   "metadata": {},
   "outputs": [
    {
     "name": "stdout",
     "output_type": "stream",
     "text": [
      "Admissions begun on: 2100-06-07 19:59:00\n",
      "Admissions ended on: 2210-08-17 17:13:00\n",
      "\n",
      "Discharges begun on: 2100-06-09 17:09:00\n",
      "Discharges ended on: 2210-08-24 19:43:00\n"
     ]
    }
   ],
   "source": [
    "print(f\"Admissions begun on: {admissions_df.admittime.min()}\")\n",
    "print(f\"Admissions ended on: {admissions_df.admittime.max()}\\n\")\n",
    "print(f\"Discharges begun on: {admissions_df.dischtime.min()}\")\n",
    "print(f\"Discharges ended on: {admissions_df.dischtime.max()}\")"
   ]
  },
  {
   "cell_type": "code",
   "execution_count": 46,
   "metadata": {},
   "outputs": [
    {
     "data": {
      "text/plain": [
       "46520"
      ]
     },
     "execution_count": 46,
     "metadata": {},
     "output_type": "execute_result"
    }
   ],
   "source": [
    "admissions_df.subject_id.nunique()"
   ]
  },
  {
   "cell_type": "markdown",
   "metadata": {},
   "source": [
    "There are a total of 58967 admissions with a population of 46520."
   ]
  },
  {
   "cell_type": "markdown",
   "metadata": {},
   "source": [
    "`admission_type` is categorical data, with a possible of 4 values."
   ]
  },
  {
   "cell_type": "code",
   "execution_count": 47,
   "metadata": {},
   "outputs": [
    {
     "data": {
      "text/html": [
       "<div>\n",
       "<style scoped>\n",
       "    .dataframe tbody tr th:only-of-type {\n",
       "        vertical-align: middle;\n",
       "    }\n",
       "\n",
       "    .dataframe tbody tr th {\n",
       "        vertical-align: top;\n",
       "    }\n",
       "\n",
       "    .dataframe thead th {\n",
       "        text-align: right;\n",
       "    }\n",
       "</style>\n",
       "<table border=\"1\" class=\"dataframe\">\n",
       "  <thead>\n",
       "    <tr style=\"text-align: right;\">\n",
       "      <th></th>\n",
       "      <th>counts</th>\n",
       "      <th>%</th>\n",
       "    </tr>\n",
       "  </thead>\n",
       "  <tbody>\n",
       "    <tr>\n",
       "      <th>EMERGENCY</th>\n",
       "      <td>42071</td>\n",
       "      <td>71.34</td>\n",
       "    </tr>\n",
       "    <tr>\n",
       "      <th>NEWBORN</th>\n",
       "      <td>7863</td>\n",
       "      <td>13.33</td>\n",
       "    </tr>\n",
       "    <tr>\n",
       "      <th>ELECTIVE</th>\n",
       "      <td>7706</td>\n",
       "      <td>13.07</td>\n",
       "    </tr>\n",
       "    <tr>\n",
       "      <th>URGENT</th>\n",
       "      <td>1336</td>\n",
       "      <td>2.27</td>\n",
       "    </tr>\n",
       "  </tbody>\n",
       "</table>\n",
       "</div>"
      ],
      "text/plain": [
       "           counts      %\n",
       "EMERGENCY   42071  71.34\n",
       "NEWBORN      7863  13.33\n",
       "ELECTIVE     7706  13.07\n",
       "URGENT       1336   2.27"
      ]
     },
     "execution_count": 47,
     "metadata": {},
     "output_type": "execute_result"
    }
   ],
   "source": [
    "c = admissions_df.admission_type.value_counts()\n",
    "p = admissions_df.admission_type.value_counts(normalize=True).mul(100).round(2)\n",
    "pd.concat([c,p], axis=1, keys=['counts', '%'])"
   ]
  },
  {
   "cell_type": "markdown",
   "metadata": {},
   "source": [
    "`admission_location` is categorical data, with a possible 9 values. "
   ]
  },
  {
   "cell_type": "code",
   "execution_count": 48,
   "metadata": {},
   "outputs": [
    {
     "data": {
      "text/html": [
       "<div>\n",
       "<style scoped>\n",
       "    .dataframe tbody tr th:only-of-type {\n",
       "        vertical-align: middle;\n",
       "    }\n",
       "\n",
       "    .dataframe tbody tr th {\n",
       "        vertical-align: top;\n",
       "    }\n",
       "\n",
       "    .dataframe thead th {\n",
       "        text-align: right;\n",
       "    }\n",
       "</style>\n",
       "<table border=\"1\" class=\"dataframe\">\n",
       "  <thead>\n",
       "    <tr style=\"text-align: right;\">\n",
       "      <th></th>\n",
       "      <th>counts</th>\n",
       "      <th>%</th>\n",
       "    </tr>\n",
       "  </thead>\n",
       "  <tbody>\n",
       "    <tr>\n",
       "      <th>EMERGENCY ROOM ADMIT</th>\n",
       "      <td>22754</td>\n",
       "      <td>38.58</td>\n",
       "    </tr>\n",
       "    <tr>\n",
       "      <th>PHYS REFERRAL/NORMAL DELI</th>\n",
       "      <td>15079</td>\n",
       "      <td>25.57</td>\n",
       "    </tr>\n",
       "    <tr>\n",
       "      <th>CLINIC REFERRAL/PREMATURE</th>\n",
       "      <td>12032</td>\n",
       "      <td>20.40</td>\n",
       "    </tr>\n",
       "    <tr>\n",
       "      <th>TRANSFER FROM HOSP/EXTRAM</th>\n",
       "      <td>8456</td>\n",
       "      <td>14.34</td>\n",
       "    </tr>\n",
       "    <tr>\n",
       "      <th>TRANSFER FROM SKILLED NUR</th>\n",
       "      <td>273</td>\n",
       "      <td>0.46</td>\n",
       "    </tr>\n",
       "  </tbody>\n",
       "</table>\n",
       "</div>"
      ],
      "text/plain": [
       "                           counts      %\n",
       "EMERGENCY ROOM ADMIT        22754  38.58\n",
       "PHYS REFERRAL/NORMAL DELI   15079  25.57\n",
       "CLINIC REFERRAL/PREMATURE   12032  20.40\n",
       "TRANSFER FROM HOSP/EXTRAM    8456  14.34\n",
       "TRANSFER FROM SKILLED NUR     273   0.46"
      ]
     },
     "execution_count": 48,
     "metadata": {},
     "output_type": "execute_result"
    }
   ],
   "source": [
    "c = admissions_df.admission_location.value_counts()[:5]\n",
    "p = admissions_df.admission_location.value_counts(normalize=True).mul(100).round(2)[:5]\n",
    "pd.concat([c,p], axis=1, keys=['counts', '%'])"
   ]
  },
  {
   "cell_type": "markdown",
   "metadata": {},
   "source": [
    "`discharge_location` is categorical data, with a possible 17 values."
   ]
  },
  {
   "cell_type": "code",
   "execution_count": 49,
   "metadata": {},
   "outputs": [
    {
     "data": {
      "text/html": [
       "<div>\n",
       "<style scoped>\n",
       "    .dataframe tbody tr th:only-of-type {\n",
       "        vertical-align: middle;\n",
       "    }\n",
       "\n",
       "    .dataframe tbody tr th {\n",
       "        vertical-align: top;\n",
       "    }\n",
       "\n",
       "    .dataframe thead th {\n",
       "        text-align: right;\n",
       "    }\n",
       "</style>\n",
       "<table border=\"1\" class=\"dataframe\">\n",
       "  <thead>\n",
       "    <tr style=\"text-align: right;\">\n",
       "      <th></th>\n",
       "      <th>counts</th>\n",
       "      <th>%</th>\n",
       "    </tr>\n",
       "  </thead>\n",
       "  <tbody>\n",
       "    <tr>\n",
       "      <th>HOME</th>\n",
       "      <td>18962</td>\n",
       "      <td>32.15</td>\n",
       "    </tr>\n",
       "    <tr>\n",
       "      <th>HOME HEALTH CARE</th>\n",
       "      <td>13963</td>\n",
       "      <td>23.68</td>\n",
       "    </tr>\n",
       "    <tr>\n",
       "      <th>SNF</th>\n",
       "      <td>7705</td>\n",
       "      <td>13.06</td>\n",
       "    </tr>\n",
       "    <tr>\n",
       "      <th>REHAB/DISTINCT PART HOSP</th>\n",
       "      <td>6429</td>\n",
       "      <td>10.90</td>\n",
       "    </tr>\n",
       "    <tr>\n",
       "      <th>DEAD/EXPIRED</th>\n",
       "      <td>5854</td>\n",
       "      <td>9.93</td>\n",
       "    </tr>\n",
       "  </tbody>\n",
       "</table>\n",
       "</div>"
      ],
      "text/plain": [
       "                          counts      %\n",
       "HOME                       18962  32.15\n",
       "HOME HEALTH CARE           13963  23.68\n",
       "SNF                         7705  13.06\n",
       "REHAB/DISTINCT PART HOSP    6429  10.90\n",
       "DEAD/EXPIRED                5854   9.93"
      ]
     },
     "execution_count": 49,
     "metadata": {},
     "output_type": "execute_result"
    }
   ],
   "source": [
    "c = admissions_df.discharge_location.value_counts()[:5]\n",
    "p = admissions_df.discharge_location.value_counts(normalize=True).mul(100).round(2)[:5]\n",
    "pd.concat([c,p], axis=1, keys=['counts', '%'])"
   ]
  },
  {
   "cell_type": "markdown",
   "metadata": {},
   "source": [
    "`insurance` is categorical data, with a possible 5 values."
   ]
  },
  {
   "cell_type": "code",
   "execution_count": 50,
   "metadata": {},
   "outputs": [
    {
     "data": {
      "text/html": [
       "<div>\n",
       "<style scoped>\n",
       "    .dataframe tbody tr th:only-of-type {\n",
       "        vertical-align: middle;\n",
       "    }\n",
       "\n",
       "    .dataframe tbody tr th {\n",
       "        vertical-align: top;\n",
       "    }\n",
       "\n",
       "    .dataframe thead th {\n",
       "        text-align: right;\n",
       "    }\n",
       "</style>\n",
       "<table border=\"1\" class=\"dataframe\">\n",
       "  <thead>\n",
       "    <tr style=\"text-align: right;\">\n",
       "      <th></th>\n",
       "      <th>counts</th>\n",
       "      <th>%</th>\n",
       "    </tr>\n",
       "  </thead>\n",
       "  <tbody>\n",
       "    <tr>\n",
       "      <th>Medicare</th>\n",
       "      <td>28215</td>\n",
       "      <td>47.84</td>\n",
       "    </tr>\n",
       "    <tr>\n",
       "      <th>Private</th>\n",
       "      <td>22582</td>\n",
       "      <td>38.29</td>\n",
       "    </tr>\n",
       "    <tr>\n",
       "      <th>Medicaid</th>\n",
       "      <td>5785</td>\n",
       "      <td>9.81</td>\n",
       "    </tr>\n",
       "    <tr>\n",
       "      <th>Government</th>\n",
       "      <td>1783</td>\n",
       "      <td>3.02</td>\n",
       "    </tr>\n",
       "    <tr>\n",
       "      <th>Self Pay</th>\n",
       "      <td>611</td>\n",
       "      <td>1.04</td>\n",
       "    </tr>\n",
       "  </tbody>\n",
       "</table>\n",
       "</div>"
      ],
      "text/plain": [
       "            counts      %\n",
       "Medicare     28215  47.84\n",
       "Private      22582  38.29\n",
       "Medicaid      5785   9.81\n",
       "Government    1783   3.02\n",
       "Self Pay       611   1.04"
      ]
     },
     "execution_count": 50,
     "metadata": {},
     "output_type": "execute_result"
    }
   ],
   "source": [
    "c = admissions_df.insurance.value_counts()\n",
    "p = admissions_df.insurance.value_counts(normalize=True).mul(100).round(2)\n",
    "pd.concat([c,p], axis=1, keys=['counts', '%'])"
   ]
  },
  {
   "cell_type": "markdown",
   "metadata": {},
   "source": [
    "`hospital_expire_flag` is a binary value, where 1 represents a fatality and 0 represents alive."
   ]
  },
  {
   "cell_type": "code",
   "execution_count": 51,
   "metadata": {},
   "outputs": [
    {
     "data": {
      "text/html": [
       "<div>\n",
       "<style scoped>\n",
       "    .dataframe tbody tr th:only-of-type {\n",
       "        vertical-align: middle;\n",
       "    }\n",
       "\n",
       "    .dataframe tbody tr th {\n",
       "        vertical-align: top;\n",
       "    }\n",
       "\n",
       "    .dataframe thead th {\n",
       "        text-align: right;\n",
       "    }\n",
       "</style>\n",
       "<table border=\"1\" class=\"dataframe\">\n",
       "  <thead>\n",
       "    <tr style=\"text-align: right;\">\n",
       "      <th></th>\n",
       "      <th>counts</th>\n",
       "      <th>%</th>\n",
       "    </tr>\n",
       "  </thead>\n",
       "  <tbody>\n",
       "    <tr>\n",
       "      <th>0</th>\n",
       "      <td>53122</td>\n",
       "      <td>90.07</td>\n",
       "    </tr>\n",
       "    <tr>\n",
       "      <th>1</th>\n",
       "      <td>5854</td>\n",
       "      <td>9.93</td>\n",
       "    </tr>\n",
       "  </tbody>\n",
       "</table>\n",
       "</div>"
      ],
      "text/plain": [
       "   counts      %\n",
       "0   53122  90.07\n",
       "1    5854   9.93"
      ]
     },
     "execution_count": 51,
     "metadata": {},
     "output_type": "execute_result"
    }
   ],
   "source": [
    "c = admissions_df.hospital_expire_flag.value_counts()\n",
    "p = admissions_df.hospital_expire_flag.value_counts(normalize=True).mul(100).round(2)\n",
    "pd.concat([c,p], axis=1, keys=['counts', '%'])"
   ]
  },
  {
   "cell_type": "markdown",
   "metadata": {},
   "source": [
    "`ethnicity` is categorical data, with a possible 41 values."
   ]
  },
  {
   "cell_type": "code",
   "execution_count": 52,
   "metadata": {},
   "outputs": [
    {
     "data": {
      "text/html": [
       "<div>\n",
       "<style scoped>\n",
       "    .dataframe tbody tr th:only-of-type {\n",
       "        vertical-align: middle;\n",
       "    }\n",
       "\n",
       "    .dataframe tbody tr th {\n",
       "        vertical-align: top;\n",
       "    }\n",
       "\n",
       "    .dataframe thead th {\n",
       "        text-align: right;\n",
       "    }\n",
       "</style>\n",
       "<table border=\"1\" class=\"dataframe\">\n",
       "  <thead>\n",
       "    <tr style=\"text-align: right;\">\n",
       "      <th></th>\n",
       "      <th>counts</th>\n",
       "      <th>%</th>\n",
       "    </tr>\n",
       "  </thead>\n",
       "  <tbody>\n",
       "    <tr>\n",
       "      <th>WHITE</th>\n",
       "      <td>40996</td>\n",
       "      <td>69.51</td>\n",
       "    </tr>\n",
       "    <tr>\n",
       "      <th>BLACK/AFRICAN AMERICAN</th>\n",
       "      <td>5440</td>\n",
       "      <td>9.22</td>\n",
       "    </tr>\n",
       "    <tr>\n",
       "      <th>UNKNOWN/NOT SPECIFIED</th>\n",
       "      <td>4523</td>\n",
       "      <td>7.67</td>\n",
       "    </tr>\n",
       "    <tr>\n",
       "      <th>HISPANIC OR LATINO</th>\n",
       "      <td>1696</td>\n",
       "      <td>2.88</td>\n",
       "    </tr>\n",
       "    <tr>\n",
       "      <th>OTHER</th>\n",
       "      <td>1512</td>\n",
       "      <td>2.56</td>\n",
       "    </tr>\n",
       "  </tbody>\n",
       "</table>\n",
       "</div>"
      ],
      "text/plain": [
       "                        counts      %\n",
       "WHITE                    40996  69.51\n",
       "BLACK/AFRICAN AMERICAN    5440   9.22\n",
       "UNKNOWN/NOT SPECIFIED     4523   7.67\n",
       "HISPANIC OR LATINO        1696   2.88\n",
       "OTHER                     1512   2.56"
      ]
     },
     "execution_count": 52,
     "metadata": {},
     "output_type": "execute_result"
    }
   ],
   "source": [
    "c = admissions_df.ethnicity.value_counts()[:5]\n",
    "p = admissions_df.ethnicity.value_counts(normalize=True).mul(100).round(2)[:5]\n",
    "pd.concat([c,p], axis=1, keys=['counts', '%'])"
   ]
  },
  {
   "cell_type": "markdown",
   "metadata": {},
   "source": [
    "Let's observe the number of admissions on a monthy basis over a period of 10 years."
   ]
  },
  {
   "cell_type": "code",
   "execution_count": 53,
   "metadata": {},
   "outputs": [
    {
     "data": {
      "text/plain": [
       "<AxesSubplot:title={'center':'Number of Admissions over time'}, xlabel='Year', ylabel='Number of Admissions'>"
      ]
     },
     "execution_count": 53,
     "metadata": {},
     "output_type": "execute_result"
    },
    {
     "data": {
      "image/png": "[encoded data removed]",
      "text/plain": [
       "<Figure size 1440x432 with 1 Axes>"
      ]
     },
     "metadata": {
      "needs_background": "light"
     },
     "output_type": "display_data"
    }
   ],
   "source": [
    "admissions_df['admittime'] = pd.to_datetime(admissions_df['admittime'])\n",
    "admissions_df['dischtime'] = pd.to_datetime(admissions_df['dischtime'])\n",
    "\n",
    "mask = (admissions_df['admittime'] > '2150-01-01') & (admissions_df['admittime'] <= '2160-01-01')\n",
    "admission5year = admissions_df.loc[mask]\n",
    "admission5year['year_month'] = pd.to_datetime(admission5year['admittime']).dt.to_period('M')\n",
    "admission5year.year_month.value_counts().sort_index().plot(figsize=(20,6), xlabel='Year', ylabel='Number of Admissions', title='Number of Admissions over time')"
   ]
  },
  {
   "cell_type": "markdown",
   "metadata": {},
   "source": [
    "Now, let's examine the patients where `hospital_expire_flag=1`."
   ]
  },
  {
   "cell_type": "code",
   "execution_count": 54,
   "metadata": {},
   "outputs": [
    {
     "name": "stdout",
     "output_type": "stream",
     "text": [
      "Number of in-hospital mortalities: 5854\n"
     ]
    }
   ],
   "source": [
    "mortality = admissions_df[admissions_df.hospital_expire_flag == 1]\n",
    "print(f\"Number of in-hospital mortalities: {mortality.shape[0]}\")"
   ]
  },
  {
   "cell_type": "code",
   "execution_count": 55,
   "metadata": {},
   "outputs": [
    {
     "data": {
      "text/plain": [
       "count    5854.000000\n",
       "mean      243.481212\n",
       "std       335.897574\n",
       "min      -716.716667\n",
       "25%        44.350000\n",
       "50%       139.716667\n",
       "75%       311.366667\n",
       "max      4954.216667\n",
       "Name: deathtime_hours, dtype: float64"
      ]
     },
     "execution_count": 55,
     "metadata": {},
     "output_type": "execute_result"
    }
   ],
   "source": [
    "mortality['deathtime_hours'] = (mortality['deathtime'] - mortality['admittime']) / timedelta(hours=1) # Number of hours between time of death and admission.\n",
    "mortality.deathtime_hours.describe()"
   ]
  },
  {
   "cell_type": "markdown",
   "metadata": {},
   "source": [
    "Filter out patients who have a negative deathtime_hours, most likely an administrative error."
   ]
  },
  {
   "cell_type": "code",
   "execution_count": 56,
   "metadata": {},
   "outputs": [
    {
     "data": {
      "text/plain": [
       "count    240.250000\n",
       "mean      10.315157\n",
       "std       14.023737\n",
       "min        0.000000\n",
       "25%        1.975521\n",
       "50%        5.920139\n",
       "75%       13.103993\n",
       "max      206.425694\n",
       "Name: deathtime_hours, dtype: float64"
      ]
     },
     "execution_count": 56,
     "metadata": {},
     "output_type": "execute_result"
    }
   ],
   "source": [
    "mortality = mortality[(mortality.hospital_expire_flag == 1) & (mortality.deathtime_hours >=0)]\n",
    "mortality.deathtime_hours.describe() / 24 # (in days)"
   ]
  },
  {
   "cell_type": "markdown",
   "metadata": {},
   "source": [
    "Out of the patients that have died after being admitted into the hospital, average death time after being admitted into the ICU is 10.315 days. Maximum death time was 206.42 days and minimum days was 0.\n",
    "\n",
    "Let's see a boxplot of the death time in hours after being admitted to the ICU."
   ]
  },
  {
   "cell_type": "code",
   "execution_count": 57,
   "metadata": {},
   "outputs": [
    {
     "data": {
      "image/png": "[encoded data removed]",
      "text/plain": [
       "<Figure size 720x576 with 1 Axes>"
      ]
     },
     "metadata": {
      "needs_background": "light"
     },
     "output_type": "display_data"
    }
   ],
   "source": [
    "fig = plt.figure()\n",
    "fig.set_size_inches(10,8)\n",
    "plt.boxplot(mortality.deathtime_hours.tolist())\n",
    "plt.ylabel(\"Hours \")\n",
    "plt.title(\"Number of Deaths in hours after admission\")\n",
    "plt.show()"
   ]
  },
  {
   "cell_type": "markdown",
   "metadata": {},
   "source": [
    "Let's view a histogram of the death times, truncated to 100 days."
   ]
  },
  {
   "cell_type": "code",
   "execution_count": 58,
   "metadata": {},
   "outputs": [
    {
     "data": {
      "text/plain": [
       "Text(0.5, 0, 'Death time (days)')"
      ]
     },
     "execution_count": 58,
     "metadata": {},
     "output_type": "execute_result"
    },
    {
     "data": {
      "image/png": "[encoded data removed]",
      "text/plain": [
       "<Figure size 1440x432 with 1 Axes>"
      ]
     },
     "metadata": {
      "needs_background": "light"
     },
     "output_type": "display_data"
    }
   ],
   "source": [
    "ax = plt.axes()\n",
    "ax.set_xlim(0, 100)\n",
    "ax.xaxis.set_major_locator(ticker.MultipleLocator(10))\n",
    "ax.xaxis.set_minor_locator(ticker.MultipleLocator(1))\n",
    "\n",
    "mortality['deathtime_days'] = mortality['deathtime_hours'] / 24\n",
    "\n",
    "mortality['deathtime_days'].plot(kind='hist', bins=100, figsize=(20,6),title='In-hospital times for death in days')\n",
    "plt.xlabel('Death time (days)')"
   ]
  },
  {
   "cell_type": "markdown",
   "metadata": {},
   "source": [
    "Does `admission_type` impact `hospital_expire_flag`?\n",
    "\n",
    "Let's analyze each admission type individually."
   ]
  },
  {
   "cell_type": "code",
   "execution_count": 59,
   "metadata": {},
   "outputs": [],
   "source": [
    "admissions_emergency_deaths = admissions_df[(admissions_df.admission_type == 'EMERGENCY') & (admissions_df.hospital_expire_flag == 1)]\n",
    "admissions_newborn_deaths = admissions_df[(admissions_df.admission_type == 'NEWBORN') & (admissions_df.hospital_expire_flag == 1)]\n",
    "admissions_elective_deaths = admissions_df[(admissions_df.admission_type == 'ELECTIVE') & (admissions_df.hospital_expire_flag == 1)]\n",
    "admissions_urgent_deaths = admissions_df[(admissions_df.admission_type == 'URGENT') & (admissions_df.hospital_expire_flag == 1)]"
   ]
  },
  {
   "cell_type": "code",
   "execution_count": 60,
   "metadata": {},
   "outputs": [
    {
     "data": {
      "text/plain": [
       "Text(0.5, 1.0, 'Number of Deaths by Admission Type')"
      ]
     },
     "execution_count": 60,
     "metadata": {},
     "output_type": "execute_result"
    },
    {
     "data": {
      "image/png": "[encoded data removed]",
      "text/plain": [
       "<Figure size 432x288 with 1 Axes>"
      ]
     },
     "metadata": {
      "needs_background": "light"
     },
     "output_type": "display_data"
    }
   ],
   "source": [
    "frequencies = [len(admissions_emergency_deaths), len(admissions_newborn_deaths), len(admissions_elective_deaths), len(admissions_urgent_deaths)]\n",
    "xlabels = [\"Emergency\", \"Newborn\", \"Elective\", \"Urgent\"]\n",
    "\n",
    "plt.bar(xlabels, frequencies)\n",
    "plt.xlabel(\"Admission Type\")\n",
    "plt.ylabel(\"Number of Deaths\")\n",
    "plt.title(\"Number of Deaths by Admission Type\")"
   ]
  }
 ],
 "metadata": {
  "kernelspec": {
   "display_name": "Python 3.8.13 ('homeless-proj')",
   "language": "python",
   "name": "python3"
  },
  "language_info": {
   "codemirror_mode": {
    "name": "ipython",
    "version": 3
   },
   "file_extension": ".py",
   "mimetype": "text/x-python",
   "name": "python",
   "nbconvert_exporter": "python",
   "pygments_lexer": "ipython3",
   "version": "3.8.13"
  },
  "orig_nbformat": 4,
  "vscode": {
   "interpreter": {
    "hash": "81686e47d536e3df6c61aad70b193c760b1d667c8c8e04f426182dba08a834b2"
   }
  }
 },
 "nbformat": 4,
 "nbformat_minor": 2
}
